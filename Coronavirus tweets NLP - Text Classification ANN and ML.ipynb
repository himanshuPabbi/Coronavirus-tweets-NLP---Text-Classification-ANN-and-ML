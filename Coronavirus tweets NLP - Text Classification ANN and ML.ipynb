{
 "cells": [
  {
   "cell_type": "code",
   "execution_count": 1,
   "id": "eb20f3cd",
   "metadata": {},
   "outputs": [],
   "source": [
    "import pandas as pd\n",
    "import numpy as np\n",
    "import matplotlib.pyplot as plt\n",
    "import seaborn as sns"
   ]
  },
  {
   "cell_type": "code",
   "execution_count": 2,
   "id": "51b9bc90",
   "metadata": {},
   "outputs": [],
   "source": [
    "from sklearn.neighbors import KNeighborsClassifier\n",
    "from sklearn.ensemble import RandomForestClassifier\n",
    "from sklearn.tree import DecisionTreeClassifier\n",
    "from sklearn.linear_model import LogisticRegression\n",
    "from sklearn.metrics import confusion_matrix, accuracy_score\n"
   ]
  },
  {
   "cell_type": "code",
   "execution_count": 3,
   "id": "88ba8fc1",
   "metadata": {},
   "outputs": [],
   "source": [
    "df_train=pd.read_csv(\"Corona_NLP_train.csv\",encoding=\"latin-1\")"
   ]
  },
  {
   "cell_type": "code",
   "execution_count": 4,
   "id": "f2dea69c",
   "metadata": {},
   "outputs": [],
   "source": [
    "df_test=pd.read_csv(\"Corona_NLP_test.csv\")"
   ]
  },
  {
   "cell_type": "code",
   "execution_count": 5,
   "id": "8d7cd072",
   "metadata": {},
   "outputs": [
    {
     "data": {
      "text/html": [
       "<div>\n",
       "<style scoped>\n",
       "    .dataframe tbody tr th:only-of-type {\n",
       "        vertical-align: middle;\n",
       "    }\n",
       "\n",
       "    .dataframe tbody tr th {\n",
       "        vertical-align: top;\n",
       "    }\n",
       "\n",
       "    .dataframe thead th {\n",
       "        text-align: right;\n",
       "    }\n",
       "</style>\n",
       "<table border=\"1\" class=\"dataframe\">\n",
       "  <thead>\n",
       "    <tr style=\"text-align: right;\">\n",
       "      <th></th>\n",
       "      <th>UserName</th>\n",
       "      <th>ScreenName</th>\n",
       "      <th>Location</th>\n",
       "      <th>TweetAt</th>\n",
       "      <th>OriginalTweet</th>\n",
       "      <th>Sentiment</th>\n",
       "    </tr>\n",
       "  </thead>\n",
       "  <tbody>\n",
       "    <tr>\n",
       "      <th>0</th>\n",
       "      <td>3799</td>\n",
       "      <td>48751</td>\n",
       "      <td>London</td>\n",
       "      <td>16-03-2020</td>\n",
       "      <td>@MeNyrbie @Phil_Gahan @Chrisitv https://t.co/i...</td>\n",
       "      <td>Neutral</td>\n",
       "    </tr>\n",
       "    <tr>\n",
       "      <th>1</th>\n",
       "      <td>3800</td>\n",
       "      <td>48752</td>\n",
       "      <td>UK</td>\n",
       "      <td>16-03-2020</td>\n",
       "      <td>advice Talk to your neighbours family to excha...</td>\n",
       "      <td>Positive</td>\n",
       "    </tr>\n",
       "    <tr>\n",
       "      <th>2</th>\n",
       "      <td>3801</td>\n",
       "      <td>48753</td>\n",
       "      <td>Vagabonds</td>\n",
       "      <td>16-03-2020</td>\n",
       "      <td>Coronavirus Australia: Woolworths to give elde...</td>\n",
       "      <td>Positive</td>\n",
       "    </tr>\n",
       "    <tr>\n",
       "      <th>3</th>\n",
       "      <td>3802</td>\n",
       "      <td>48754</td>\n",
       "      <td>NaN</td>\n",
       "      <td>16-03-2020</td>\n",
       "      <td>My food stock is not the only one which is emp...</td>\n",
       "      <td>Positive</td>\n",
       "    </tr>\n",
       "    <tr>\n",
       "      <th>4</th>\n",
       "      <td>3803</td>\n",
       "      <td>48755</td>\n",
       "      <td>NaN</td>\n",
       "      <td>16-03-2020</td>\n",
       "      <td>Me, ready to go at supermarket during the #COV...</td>\n",
       "      <td>Extremely Negative</td>\n",
       "    </tr>\n",
       "  </tbody>\n",
       "</table>\n",
       "</div>"
      ],
      "text/plain": [
       "   UserName  ScreenName   Location     TweetAt  \\\n",
       "0      3799       48751     London  16-03-2020   \n",
       "1      3800       48752         UK  16-03-2020   \n",
       "2      3801       48753  Vagabonds  16-03-2020   \n",
       "3      3802       48754        NaN  16-03-2020   \n",
       "4      3803       48755        NaN  16-03-2020   \n",
       "\n",
       "                                       OriginalTweet           Sentiment  \n",
       "0  @MeNyrbie @Phil_Gahan @Chrisitv https://t.co/i...             Neutral  \n",
       "1  advice Talk to your neighbours family to excha...            Positive  \n",
       "2  Coronavirus Australia: Woolworths to give elde...            Positive  \n",
       "3  My food stock is not the only one which is emp...            Positive  \n",
       "4  Me, ready to go at supermarket during the #COV...  Extremely Negative  "
      ]
     },
     "execution_count": 5,
     "metadata": {},
     "output_type": "execute_result"
    }
   ],
   "source": [
    "df_train.head()"
   ]
  },
  {
   "cell_type": "code",
   "execution_count": 6,
   "id": "7cf6c6bf",
   "metadata": {},
   "outputs": [
    {
     "data": {
      "text/html": [
       "<div>\n",
       "<style scoped>\n",
       "    .dataframe tbody tr th:only-of-type {\n",
       "        vertical-align: middle;\n",
       "    }\n",
       "\n",
       "    .dataframe tbody tr th {\n",
       "        vertical-align: top;\n",
       "    }\n",
       "\n",
       "    .dataframe thead th {\n",
       "        text-align: right;\n",
       "    }\n",
       "</style>\n",
       "<table border=\"1\" class=\"dataframe\">\n",
       "  <thead>\n",
       "    <tr style=\"text-align: right;\">\n",
       "      <th></th>\n",
       "      <th>UserName</th>\n",
       "      <th>ScreenName</th>\n",
       "      <th>Location</th>\n",
       "      <th>TweetAt</th>\n",
       "      <th>OriginalTweet</th>\n",
       "      <th>Sentiment</th>\n",
       "    </tr>\n",
       "  </thead>\n",
       "  <tbody>\n",
       "    <tr>\n",
       "      <th>0</th>\n",
       "      <td>1</td>\n",
       "      <td>44953</td>\n",
       "      <td>NYC</td>\n",
       "      <td>02-03-2020</td>\n",
       "      <td>TRENDING: New Yorkers encounter empty supermar...</td>\n",
       "      <td>Extremely Negative</td>\n",
       "    </tr>\n",
       "    <tr>\n",
       "      <th>1</th>\n",
       "      <td>2</td>\n",
       "      <td>44954</td>\n",
       "      <td>Seattle, WA</td>\n",
       "      <td>02-03-2020</td>\n",
       "      <td>When I couldn't find hand sanitizer at Fred Me...</td>\n",
       "      <td>Positive</td>\n",
       "    </tr>\n",
       "    <tr>\n",
       "      <th>2</th>\n",
       "      <td>3</td>\n",
       "      <td>44955</td>\n",
       "      <td>NaN</td>\n",
       "      <td>02-03-2020</td>\n",
       "      <td>Find out how you can protect yourself and love...</td>\n",
       "      <td>Extremely Positive</td>\n",
       "    </tr>\n",
       "    <tr>\n",
       "      <th>3</th>\n",
       "      <td>4</td>\n",
       "      <td>44956</td>\n",
       "      <td>Chicagoland</td>\n",
       "      <td>02-03-2020</td>\n",
       "      <td>#Panic buying hits #NewYork City as anxious sh...</td>\n",
       "      <td>Negative</td>\n",
       "    </tr>\n",
       "    <tr>\n",
       "      <th>4</th>\n",
       "      <td>5</td>\n",
       "      <td>44957</td>\n",
       "      <td>Melbourne, Victoria</td>\n",
       "      <td>03-03-2020</td>\n",
       "      <td>#toiletpaper #dunnypaper #coronavirus #coronav...</td>\n",
       "      <td>Neutral</td>\n",
       "    </tr>\n",
       "  </tbody>\n",
       "</table>\n",
       "</div>"
      ],
      "text/plain": [
       "   UserName  ScreenName             Location     TweetAt  \\\n",
       "0         1       44953                  NYC  02-03-2020   \n",
       "1         2       44954          Seattle, WA  02-03-2020   \n",
       "2         3       44955                  NaN  02-03-2020   \n",
       "3         4       44956          Chicagoland  02-03-2020   \n",
       "4         5       44957  Melbourne, Victoria  03-03-2020   \n",
       "\n",
       "                                       OriginalTweet           Sentiment  \n",
       "0  TRENDING: New Yorkers encounter empty supermar...  Extremely Negative  \n",
       "1  When I couldn't find hand sanitizer at Fred Me...            Positive  \n",
       "2  Find out how you can protect yourself and love...  Extremely Positive  \n",
       "3  #Panic buying hits #NewYork City as anxious sh...            Negative  \n",
       "4  #toiletpaper #dunnypaper #coronavirus #coronav...             Neutral  "
      ]
     },
     "execution_count": 6,
     "metadata": {},
     "output_type": "execute_result"
    }
   ],
   "source": [
    "df_test.head()"
   ]
  },
  {
   "cell_type": "code",
   "execution_count": 7,
   "id": "cdb01460",
   "metadata": {},
   "outputs": [
    {
     "data": {
      "text/plain": [
       "UserName         41157\n",
       "ScreenName       41157\n",
       "Location         12220\n",
       "TweetAt             30\n",
       "OriginalTweet    41157\n",
       "Sentiment            5\n",
       "dtype: int64"
      ]
     },
     "execution_count": 7,
     "metadata": {},
     "output_type": "execute_result"
    }
   ],
   "source": [
    "df_train.nunique()\n"
   ]
  },
  {
   "cell_type": "code",
   "execution_count": 8,
   "id": "a5eeff67",
   "metadata": {},
   "outputs": [
    {
     "data": {
      "text/plain": [
       "UserName            0\n",
       "ScreenName          0\n",
       "Location         8590\n",
       "TweetAt             0\n",
       "OriginalTweet       0\n",
       "Sentiment           0\n",
       "dtype: int64"
      ]
     },
     "execution_count": 8,
     "metadata": {},
     "output_type": "execute_result"
    }
   ],
   "source": [
    "df_train.isna().sum()\n"
   ]
  },
  {
   "cell_type": "code",
   "execution_count": 9,
   "id": "cf3f031d",
   "metadata": {},
   "outputs": [
    {
     "data": {
      "text/plain": [
       "41157"
      ]
     },
     "execution_count": 9,
     "metadata": {},
     "output_type": "execute_result"
    }
   ],
   "source": [
    "len(df_train)\n"
   ]
  },
  {
   "cell_type": "code",
   "execution_count": 10,
   "id": "1f383961",
   "metadata": {},
   "outputs": [
    {
     "name": "stderr",
     "output_type": "stream",
     "text": [
      "C:\\Users\\himanshu\\AppData\\Local\\Temp\\ipykernel_26380\\2820254018.py:6: FutureWarning: The default value of regex will change from True to False in a future version.\n",
      "  df_train['OriginalTweet'] = df_train['OriginalTweet'].str.replace('\\d+', '')\n"
     ]
    }
   ],
   "source": [
    "import re\n",
    "df_train[\"OriginalTweet\"].str.lower()\n",
    "df_train['OriginalTweet'] = df_train['OriginalTweet'].apply(lambda x: re.sub(r'http\\S+', '', x))\n",
    "import string\n",
    "df_train['OriginalTweet'] = df_train['OriginalTweet'].str.translate(str.maketrans('', '', string.punctuation))\n",
    "df_train['OriginalTweet'] = df_train['OriginalTweet'].str.replace('\\d+', '')\n",
    "df_train['OriginalTweet'] = df_train['OriginalTweet'].str.strip()\n",
    "df_train['OriginalTweet'] = df_train['OriginalTweet'].apply(lambda x: ' '.join(x.split()))"
   ]
  },
  {
   "cell_type": "code",
   "execution_count": 11,
   "id": "22c8f75c",
   "metadata": {},
   "outputs": [
    {
     "name": "stderr",
     "output_type": "stream",
     "text": [
      "C:\\Users\\himanshu\\AppData\\Local\\Temp\\ipykernel_26380\\3294693085.py:6: FutureWarning: The default value of regex will change from True to False in a future version.\n",
      "  df_test['OriginalTweet'] = df_test['OriginalTweet'].str.replace('\\d+', '')\n"
     ]
    }
   ],
   "source": [
    "import re\n",
    "df_test[\"OriginalTweet\"].str.lower()\n",
    "df_test['OriginalTweet'] = df_test['OriginalTweet'].apply(lambda x: re.sub(r'http\\S+', '', x))\n",
    "import string\n",
    "df_test['OriginalTweet'] = df_test['OriginalTweet'].str.translate(str.maketrans('', '', string.punctuation))\n",
    "df_test['OriginalTweet'] = df_test['OriginalTweet'].str.replace('\\d+', '')\n",
    "df_test['OriginalTweet'] = df_test['OriginalTweet'].str.strip()\n",
    "df_test['OriginalTweet'] = df_test['OriginalTweet'].apply(lambda x: ' '.join(x.split()))\n"
   ]
  },
  {
   "cell_type": "code",
   "execution_count": 12,
   "id": "66ab981e",
   "metadata": {},
   "outputs": [],
   "source": [
    "from tensorflow.keras.preprocessing.text import Tokenizer\n"
   ]
  },
  {
   "cell_type": "code",
   "execution_count": 13,
   "id": "a7a73df5",
   "metadata": {},
   "outputs": [],
   "source": [
    "tokenizer=Tokenizer(num_words=10000,oov_token=\"<OOV>\")\n"
   ]
  },
  {
   "cell_type": "code",
   "execution_count": 14,
   "id": "b3167977",
   "metadata": {},
   "outputs": [],
   "source": [
    "tokenizer.fit_on_texts(df_train[\"OriginalTweet\"])\n"
   ]
  },
  {
   "cell_type": "code",
   "execution_count": 15,
   "id": "2be14f72",
   "metadata": {},
   "outputs": [
    {
     "name": "stdout",
     "output_type": "stream",
     "text": [
      "59952\n"
     ]
    }
   ],
   "source": [
    "word_index=tokenizer.word_index\n",
    "print(len(word_index))\n"
   ]
  },
  {
   "cell_type": "code",
   "execution_count": 16,
   "id": "5c716080",
   "metadata": {},
   "outputs": [],
   "source": [
    "sequences=tokenizer.texts_to_sequences(df_train[\"OriginalTweet\"])\n"
   ]
  },
  {
   "cell_type": "code",
   "execution_count": 17,
   "id": "28492cb6",
   "metadata": {},
   "outputs": [
    {
     "name": "stdout",
     "output_type": "stream",
     "text": [
      "41157\n"
     ]
    }
   ],
   "source": [
    "print(len(sequences))\n"
   ]
  },
  {
   "cell_type": "code",
   "execution_count": 18,
   "id": "71b22bbc",
   "metadata": {},
   "outputs": [
    {
     "name": "stdout",
     "output_type": "stream",
     "text": [
      "[[   1    1    1 ...    0    0    0]\n",
      " [ 504  892    3 ...    0    0    0]\n",
      " [   9  798 1803 ...    0    0    0]\n",
      " ...\n",
      " [  14  127  202 ...    0    0    0]\n",
      " [  11   29  722 ...    0    0    0]\n",
      " [   1  191    1 ...    0    0    0]]\n"
     ]
    }
   ],
   "source": [
    "from tensorflow.keras.preprocessing.sequence import pad_sequences\n",
    "\n",
    "padded = pad_sequences(sequences,padding=\"post\",maxlen=100,truncating=\"post\")\n",
    "print(padded)"
   ]
  },
  {
   "cell_type": "code",
   "execution_count": 19,
   "id": "217c93e6",
   "metadata": {},
   "outputs": [
    {
     "data": {
      "text/plain": [
       "100"
      ]
     },
     "execution_count": 19,
     "metadata": {},
     "output_type": "execute_result"
    }
   ],
   "source": [
    "len(padded[0])\n"
   ]
  },
  {
   "cell_type": "code",
   "execution_count": 20,
   "id": "d644465c",
   "metadata": {},
   "outputs": [],
   "source": [
    "test_sequences=tokenizer.texts_to_sequences(df_test[\"OriginalTweet\"])\n"
   ]
  },
  {
   "cell_type": "code",
   "execution_count": 21,
   "id": "9c540024",
   "metadata": {},
   "outputs": [
    {
     "data": {
      "text/plain": [
       "3798"
      ]
     },
     "execution_count": 21,
     "metadata": {},
     "output_type": "execute_result"
    }
   ],
   "source": [
    "len(test_sequences)\n"
   ]
  },
  {
   "cell_type": "code",
   "execution_count": 22,
   "id": "97542979",
   "metadata": {},
   "outputs": [
    {
     "name": "stdout",
     "output_type": "stream",
     "text": [
      "[[2192   91 5743 ...    0    0    0]\n",
      " [  73   15 1975 ...    0    0    0]\n",
      " [ 203   42   52 ...    0    0    0]\n",
      " ...\n",
      " [   1 5063    6 ...    0    0    0]\n",
      " [ 972   61    3 ...    0    0    0]\n",
      " [  15    4    1 ...    0    0    0]]\n"
     ]
    }
   ],
   "source": [
    "test_padded = pad_sequences(test_sequences,padding=\"post\",maxlen=100,truncating=\"post\")\n",
    "print(test_padded)"
   ]
  },
  {
   "cell_type": "code",
   "execution_count": 23,
   "id": "3e7859e6",
   "metadata": {},
   "outputs": [],
   "source": [
    "import tensorflow as tf\n"
   ]
  },
  {
   "cell_type": "code",
   "execution_count": 24,
   "id": "6670aae8",
   "metadata": {},
   "outputs": [
    {
     "name": "stdout",
     "output_type": "stream",
     "text": [
      "WARNING:tensorflow:There are non-GPU devices in `tf.distribute.Strategy`, not using nccl allreduce.\n",
      "INFO:tensorflow:Using MirroredStrategy with devices ('/job:localhost/replica:0/task:0/device:CPU:0',)\n",
      "Number of devices: 1\n"
     ]
    }
   ],
   "source": [
    "# Create a MirroredStrategy.\n",
    "strategy = tf.distribute.MirroredStrategy()\n",
    "\n",
    "print('Number of devices: {}'.format(strategy.num_replicas_in_sync))\n",
    "from tensorflow.keras.regularizers import l1, l2, l1_l2\n",
    "\n",
    "# Open a strategy scope.\n",
    "with strategy.scope():\n",
    "    # Define a model using the Sequential API\n",
    "    model = tf.keras.Sequential([\n",
    "        tf.keras.layers.Embedding(10000, 16, input_length=100),\n",
    "        tf.keras.layers.Bidirectional(tf.keras.layers.LSTM(150)),\n",
    "        tf.keras.layers.Dropout(0.5),\n",
    "        tf.keras.layers.Dense(5, activation='softmax', kernel_regularizer=l1_l2(l1=0.01, l2=0.01))\n",
    "    ])\n",
    "    model.compile(loss='categorical_crossentropy', optimizer='adam', metrics=['accuracy'])"
   ]
  },
  {
   "cell_type": "code",
   "execution_count": 25,
   "id": "abd56a95",
   "metadata": {},
   "outputs": [
    {
     "name": "stdout",
     "output_type": "stream",
     "text": [
      "Model: \"sequential\"\n",
      "_________________________________________________________________\n",
      " Layer (type)                Output Shape              Param #   \n",
      "=================================================================\n",
      " embedding (Embedding)       (None, 100, 16)           160000    \n",
      "                                                                 \n",
      " bidirectional (Bidirectiona  (None, 300)              200400    \n",
      " l)                                                              \n",
      "                                                                 \n",
      " dropout (Dropout)           (None, 300)               0         \n",
      "                                                                 \n",
      " dense (Dense)               (None, 5)                 1505      \n",
      "                                                                 \n",
      "=================================================================\n",
      "Total params: 361,905\n",
      "Trainable params: 361,905\n",
      "Non-trainable params: 0\n",
      "_________________________________________________________________\n"
     ]
    }
   ],
   "source": [
    "model.summary()\n"
   ]
  },
  {
   "cell_type": "code",
   "execution_count": 26,
   "id": "fcdd2e1a",
   "metadata": {},
   "outputs": [],
   "source": [
    "from sklearn.preprocessing import LabelEncoder\n",
    "\n",
    "le = LabelEncoder()\n",
    "df_train[\"Sentiment\"]=le.fit_transform(df_train[\"Sentiment\"])\n",
    "\n",
    "labels=tf.keras.utils.to_categorical(df_train[\"Sentiment\"],num_classes=5)\n",
    "\n",
    "df_test[\"Sentiment\"]=le.fit_transform(df_test[\"Sentiment\"])\n",
    "\n",
    "test_labels=tf.keras.utils.to_categorical(df_test[\"Sentiment\"],num_classes=5)"
   ]
  },
  {
   "cell_type": "code",
   "execution_count": 27,
   "id": "b0cf66bb",
   "metadata": {},
   "outputs": [],
   "source": [
    "from tensorflow.keras.callbacks import EarlyStopping\n",
    "\n",
    "early_stop = EarlyStopping(monitor='val_loss', patience=10, verbose=1, restore_best_weights=True)\n"
   ]
  },
  {
   "cell_type": "code",
   "execution_count": 28,
   "id": "7d4c3162",
   "metadata": {},
   "outputs": [
    {
     "name": "stdout",
     "output_type": "stream",
     "text": [
      "Epoch 1/30\n",
      "1287/1287 [==============================] - 277s 212ms/step - loss: 1.6363 - accuracy: 0.2748 - val_loss: 1.5985 - val_accuracy: 0.2493\n",
      "Epoch 2/30\n",
      "1287/1287 [==============================] - 277s 216ms/step - loss: 1.5301 - accuracy: 0.3136 - val_loss: 1.4275 - val_accuracy: 0.3423\n",
      "Epoch 3/30\n",
      "1287/1287 [==============================] - 305s 237ms/step - loss: 1.3019 - accuracy: 0.4866 - val_loss: 1.2264 - val_accuracy: 0.5674\n",
      "Epoch 4/30\n",
      "1287/1287 [==============================] - 298s 231ms/step - loss: 1.0923 - accuracy: 0.6413 - val_loss: 1.1068 - val_accuracy: 0.6422\n",
      "Epoch 5/30\n",
      "1287/1287 [==============================] - 288s 224ms/step - loss: 0.9844 - accuracy: 0.6989 - val_loss: 1.0505 - val_accuracy: 0.6701\n",
      "Epoch 6/30\n",
      "1287/1287 [==============================] - 282s 219ms/step - loss: 0.9135 - accuracy: 0.7367 - val_loss: 1.0054 - val_accuracy: 0.6935\n",
      "Epoch 7/30\n",
      "1287/1287 [==============================] - 270s 210ms/step - loss: 0.8680 - accuracy: 0.7610 - val_loss: 0.9677 - val_accuracy: 0.7070\n",
      "Epoch 8/30\n",
      "1287/1287 [==============================] - 268s 208ms/step - loss: 0.8340 - accuracy: 0.7782 - val_loss: 0.9562 - val_accuracy: 0.7135\n",
      "Epoch 9/30\n",
      "1287/1287 [==============================] - 273s 212ms/step - loss: 0.8028 - accuracy: 0.7921 - val_loss: 0.9345 - val_accuracy: 0.7251\n",
      "Epoch 10/30\n",
      "1287/1287 [==============================] - 302s 235ms/step - loss: 0.7726 - accuracy: 0.8072 - val_loss: 0.9392 - val_accuracy: 0.7249\n",
      "Epoch 11/30\n",
      "1287/1287 [==============================] - 291s 226ms/step - loss: 0.7500 - accuracy: 0.8173 - val_loss: 0.9497 - val_accuracy: 0.7201\n",
      "Epoch 12/30\n",
      "1287/1287 [==============================] - 303s 235ms/step - loss: 0.7252 - accuracy: 0.8272 - val_loss: 0.9115 - val_accuracy: 0.7346\n",
      "Epoch 13/30\n",
      "1287/1287 [==============================] - 315s 245ms/step - loss: 0.7017 - accuracy: 0.8359 - val_loss: 0.9068 - val_accuracy: 0.7385\n",
      "Epoch 14/30\n",
      "1287/1287 [==============================] - 314s 244ms/step - loss: 0.6792 - accuracy: 0.8461 - val_loss: 0.9310 - val_accuracy: 0.7367\n",
      "Epoch 15/30\n",
      "1287/1287 [==============================] - 549s 427ms/step - loss: 0.6573 - accuracy: 0.8554 - val_loss: 0.9155 - val_accuracy: 0.7459\n",
      "Epoch 16/30\n",
      "1287/1287 [==============================] - 305s 237ms/step - loss: 0.6437 - accuracy: 0.8621 - val_loss: 0.9112 - val_accuracy: 0.7435\n",
      "Epoch 17/30\n",
      "1287/1287 [==============================] - 287s 223ms/step - loss: 0.6292 - accuracy: 0.8681 - val_loss: 0.9317 - val_accuracy: 0.7457\n",
      "Epoch 18/30\n",
      "1287/1287 [==============================] - 285s 222ms/step - loss: 0.6087 - accuracy: 0.8743 - val_loss: 0.9233 - val_accuracy: 0.7385\n",
      "Epoch 19/30\n",
      "1287/1287 [==============================] - 280s 217ms/step - loss: 0.5974 - accuracy: 0.8816 - val_loss: 0.9191 - val_accuracy: 0.7475\n",
      "Epoch 20/30\n",
      "1287/1287 [==============================] - 281s 218ms/step - loss: 0.5845 - accuracy: 0.8864 - val_loss: 0.9427 - val_accuracy: 0.7412\n",
      "Epoch 21/30\n",
      "1287/1287 [==============================] - 276s 215ms/step - loss: 0.5722 - accuracy: 0.8918 - val_loss: 0.9191 - val_accuracy: 0.7472\n",
      "Epoch 22/30\n",
      "1287/1287 [==============================] - 276s 215ms/step - loss: 0.5562 - accuracy: 0.8989 - val_loss: 0.9407 - val_accuracy: 0.7446\n",
      "Epoch 23/30\n",
      "1287/1287 [==============================] - ETA: 0s - loss: 0.5482 - accuracy: 0.8997Restoring model weights from the end of the best epoch: 13.\n",
      "1287/1287 [==============================] - 264s 205ms/step - loss: 0.5482 - accuracy: 0.8997 - val_loss: 0.9386 - val_accuracy: 0.7451\n",
      "Epoch 23: early stopping\n"
     ]
    }
   ],
   "source": [
    "num_epochs = 30\n",
    "history = model.fit(padded, labels, epochs=num_epochs,validation_data=(test_padded, test_labels), verbose=1,callbacks=[early_stop])\n"
   ]
  },
  {
   "cell_type": "code",
   "execution_count": 29,
   "id": "b5600aec",
   "metadata": {},
   "outputs": [
    {
     "data": {
      "image/png": "[encoded data removed]",
      "text/plain": [
       "<Figure size 432x288 with 1 Axes>"
      ]
     },
     "metadata": {
      "needs_background": "light"
     },
     "output_type": "display_data"
    },
    {
     "data": {
      "image/png": "[encoded data removed]",
      "text/plain": [
       "<Figure size 432x288 with 1 Axes>"
      ]
     },
     "metadata": {
      "needs_background": "light"
     },
     "output_type": "display_data"
    }
   ],
   "source": [
    "import matplotlib.pyplot as plt\n",
    "\n",
    "\n",
    "def plot_graphs(history, string):\n",
    "  plt.plot(history.history[string])\n",
    "  plt.plot(history.history['val_'+string])\n",
    "  plt.xlabel(\"Epochs\")\n",
    "  plt.ylabel(string)\n",
    "  plt.legend([string, 'val_'+string])\n",
    "  plt.show()\n",
    "  \n",
    "plot_graphs(history, \"accuracy\")\n",
    "plot_graphs(history, \"loss\")"
   ]
  },
  {
   "cell_type": "code",
   "execution_count": null,
   "id": "5969b22f",
   "metadata": {},
   "outputs": [],
   "source": []
  }
 ],
 "metadata": {
  "kernelspec": {
   "display_name": "Python 3 (ipykernel)",
   "language": "python",
   "name": "python3"
  },
  "language_info": {
   "codemirror_mode": {
    "name": "ipython",
    "version": 3
   },
   "file_extension": ".py",
   "mimetype": "text/x-python",
   "name": "python",
   "nbconvert_exporter": "python",
   "pygments_lexer": "ipython3",
   "version": "3.9.12"
  }
 },
 "nbformat": 4,
 "nbformat_minor": 5
}
